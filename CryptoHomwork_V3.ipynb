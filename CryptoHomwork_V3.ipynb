{
  "nbformat": 4,
  "nbformat_minor": 0,
  "metadata": {
    "colab": {
      "name": "CryptoHomwork.ipynb",
      "provenance": [],
      "collapsed_sections": []
    },
    "kernelspec": {
      "name": "python3",
      "display_name": "Python 3"
    },
    "language_info": {
      "name": "python"
    }
  },
  "cells": [
    {
      "cell_type": "code",
      "execution_count": null,
      "metadata": {
        "id": "L06-RSPNF31l"
      },
      "outputs": [],
      "source": [
        "import numpy as np\n",
        "import pandas as pd\n",
        "from pathlib import Path\n",
        "from sklearn.preprocessing import StandardScaler\n",
        "from sklearn.manifold import TSNE\n",
        "from sklearn.decomposition import PCA\n",
        "from sklearn.cluster import KMeans\n",
        "import matplotlib.pyplot as plt"
      ]
    },
    {
      "cell_type": "code",
      "source": [
        "file = Path('crypto_data.csv')\n",
        "df = pd.read_csv(file)\n",
        "df.head()"
      ],
      "metadata": {
        "colab": {
          "base_uri": "https://localhost:8080/",
          "height": 206
        },
        "id": "0VUcAyayGFdY",
        "outputId": "cc915a57-4f82-41f2-b429-9a84d1ef6ae9"
      },
      "execution_count": null,
      "outputs": [
        {
          "output_type": "execute_result",
          "data": {
            "text/plain": [
              "  Unnamed: 0   CoinName Algorithm  IsTrading ProofType  TotalCoinsMined  \\\n",
              "0         42    42 Coin    Scrypt       True   PoW/PoS     4.199995e+01   \n",
              "1        365    365Coin       X11       True   PoW/PoS              NaN   \n",
              "2        404    404Coin    Scrypt       True   PoW/PoS     1.055185e+09   \n",
              "3        611  SixEleven   SHA-256       True       PoW              NaN   \n",
              "4        808        808   SHA-256       True   PoW/PoS     0.000000e+00   \n",
              "\n",
              "  TotalCoinSupply  \n",
              "0              42  \n",
              "1      2300000000  \n",
              "2       532000000  \n",
              "3          611000  \n",
              "4               0  "
            ],
            "text/html": [
              "\n",
              "  <div id=\"df-9fa49618-2496-4b18-87f3-3607afe431aa\">\n",
              "    <div class=\"colab-df-container\">\n",
              "      <div>\n",
              "<style scoped>\n",
              "    .dataframe tbody tr th:only-of-type {\n",
              "        vertical-align: middle;\n",
              "    }\n",
              "\n",
              "    .dataframe tbody tr th {\n",
              "        vertical-align: top;\n",
              "    }\n",
              "\n",
              "    .dataframe thead th {\n",
              "        text-align: right;\n",
              "    }\n",
              "</style>\n",
              "<table border=\"1\" class=\"dataframe\">\n",
              "  <thead>\n",
              "    <tr style=\"text-align: right;\">\n",
              "      <th></th>\n",
              "      <th>Unnamed: 0</th>\n",
              "      <th>CoinName</th>\n",
              "      <th>Algorithm</th>\n",
              "      <th>IsTrading</th>\n",
              "      <th>ProofType</th>\n",
              "      <th>TotalCoinsMined</th>\n",
              "      <th>TotalCoinSupply</th>\n",
              "    </tr>\n",
              "  </thead>\n",
              "  <tbody>\n",
              "    <tr>\n",
              "      <th>0</th>\n",
              "      <td>42</td>\n",
              "      <td>42 Coin</td>\n",
              "      <td>Scrypt</td>\n",
              "      <td>True</td>\n",
              "      <td>PoW/PoS</td>\n",
              "      <td>4.199995e+01</td>\n",
              "      <td>42</td>\n",
              "    </tr>\n",
              "    <tr>\n",
              "      <th>1</th>\n",
              "      <td>365</td>\n",
              "      <td>365Coin</td>\n",
              "      <td>X11</td>\n",
              "      <td>True</td>\n",
              "      <td>PoW/PoS</td>\n",
              "      <td>NaN</td>\n",
              "      <td>2300000000</td>\n",
              "    </tr>\n",
              "    <tr>\n",
              "      <th>2</th>\n",
              "      <td>404</td>\n",
              "      <td>404Coin</td>\n",
              "      <td>Scrypt</td>\n",
              "      <td>True</td>\n",
              "      <td>PoW/PoS</td>\n",
              "      <td>1.055185e+09</td>\n",
              "      <td>532000000</td>\n",
              "    </tr>\n",
              "    <tr>\n",
              "      <th>3</th>\n",
              "      <td>611</td>\n",
              "      <td>SixEleven</td>\n",
              "      <td>SHA-256</td>\n",
              "      <td>True</td>\n",
              "      <td>PoW</td>\n",
              "      <td>NaN</td>\n",
              "      <td>611000</td>\n",
              "    </tr>\n",
              "    <tr>\n",
              "      <th>4</th>\n",
              "      <td>808</td>\n",
              "      <td>808</td>\n",
              "      <td>SHA-256</td>\n",
              "      <td>True</td>\n",
              "      <td>PoW/PoS</td>\n",
              "      <td>0.000000e+00</td>\n",
              "      <td>0</td>\n",
              "    </tr>\n",
              "  </tbody>\n",
              "</table>\n",
              "</div>\n",
              "      <button class=\"colab-df-convert\" onclick=\"convertToInteractive('df-9fa49618-2496-4b18-87f3-3607afe431aa')\"\n",
              "              title=\"Convert this dataframe to an interactive table.\"\n",
              "              style=\"display:none;\">\n",
              "        \n",
              "  <svg xmlns=\"http://www.w3.org/2000/svg\" height=\"24px\"viewBox=\"0 0 24 24\"\n",
              "       width=\"24px\">\n",
              "    <path d=\"M0 0h24v24H0V0z\" fill=\"none\"/>\n",
              "    <path d=\"M18.56 5.44l.94 2.06.94-2.06 2.06-.94-2.06-.94-.94-2.06-.94 2.06-2.06.94zm-11 1L8.5 8.5l.94-2.06 2.06-.94-2.06-.94L8.5 2.5l-.94 2.06-2.06.94zm10 10l.94 2.06.94-2.06 2.06-.94-2.06-.94-.94-2.06-.94 2.06-2.06.94z\"/><path d=\"M17.41 7.96l-1.37-1.37c-.4-.4-.92-.59-1.43-.59-.52 0-1.04.2-1.43.59L10.3 9.45l-7.72 7.72c-.78.78-.78 2.05 0 2.83L4 21.41c.39.39.9.59 1.41.59.51 0 1.02-.2 1.41-.59l7.78-7.78 2.81-2.81c.8-.78.8-2.07 0-2.86zM5.41 20L4 18.59l7.72-7.72 1.47 1.35L5.41 20z\"/>\n",
              "  </svg>\n",
              "      </button>\n",
              "      \n",
              "  <style>\n",
              "    .colab-df-container {\n",
              "      display:flex;\n",
              "      flex-wrap:wrap;\n",
              "      gap: 12px;\n",
              "    }\n",
              "\n",
              "    .colab-df-convert {\n",
              "      background-color: #E8F0FE;\n",
              "      border: none;\n",
              "      border-radius: 50%;\n",
              "      cursor: pointer;\n",
              "      display: none;\n",
              "      fill: #1967D2;\n",
              "      height: 32px;\n",
              "      padding: 0 0 0 0;\n",
              "      width: 32px;\n",
              "    }\n",
              "\n",
              "    .colab-df-convert:hover {\n",
              "      background-color: #E2EBFA;\n",
              "      box-shadow: 0px 1px 2px rgba(60, 64, 67, 0.3), 0px 1px 3px 1px rgba(60, 64, 67, 0.15);\n",
              "      fill: #174EA6;\n",
              "    }\n",
              "\n",
              "    [theme=dark] .colab-df-convert {\n",
              "      background-color: #3B4455;\n",
              "      fill: #D2E3FC;\n",
              "    }\n",
              "\n",
              "    [theme=dark] .colab-df-convert:hover {\n",
              "      background-color: #434B5C;\n",
              "      box-shadow: 0px 1px 3px 1px rgba(0, 0, 0, 0.15);\n",
              "      filter: drop-shadow(0px 1px 2px rgba(0, 0, 0, 0.3));\n",
              "      fill: #FFFFFF;\n",
              "    }\n",
              "  </style>\n",
              "\n",
              "      <script>\n",
              "        const buttonEl =\n",
              "          document.querySelector('#df-9fa49618-2496-4b18-87f3-3607afe431aa button.colab-df-convert');\n",
              "        buttonEl.style.display =\n",
              "          google.colab.kernel.accessAllowed ? 'block' : 'none';\n",
              "\n",
              "        async function convertToInteractive(key) {\n",
              "          const element = document.querySelector('#df-9fa49618-2496-4b18-87f3-3607afe431aa');\n",
              "          const dataTable =\n",
              "            await google.colab.kernel.invokeFunction('convertToInteractive',\n",
              "                                                     [key], {});\n",
              "          if (!dataTable) return;\n",
              "\n",
              "          const docLinkHtml = 'Like what you see? Visit the ' +\n",
              "            '<a target=\"_blank\" href=https://colab.research.google.com/notebooks/data_table.ipynb>data table notebook</a>'\n",
              "            + ' to learn more about interactive tables.';\n",
              "          element.innerHTML = '';\n",
              "          dataTable['output_type'] = 'display_data';\n",
              "          await google.colab.output.renderOutput(dataTable, element);\n",
              "          const docLink = document.createElement('div');\n",
              "          docLink.innerHTML = docLinkHtml;\n",
              "          element.appendChild(docLink);\n",
              "        }\n",
              "      </script>\n",
              "    </div>\n",
              "  </div>\n",
              "  "
            ]
          },
          "metadata": {},
          "execution_count": 2
        }
      ]
    },
    {
      "cell_type": "code",
      "source": [
        "df.info()"
      ],
      "metadata": {
        "colab": {
          "base_uri": "https://localhost:8080/"
        },
        "id": "94Bk6AtPR3Ho",
        "outputId": "0a328a20-a63f-47e4-9541-810c9bbde453"
      },
      "execution_count": null,
      "outputs": [
        {
          "output_type": "stream",
          "name": "stdout",
          "text": [
            "<class 'pandas.core.frame.DataFrame'>\n",
            "RangeIndex: 1252 entries, 0 to 1251\n",
            "Data columns (total 7 columns):\n",
            " #   Column           Non-Null Count  Dtype  \n",
            "---  ------           --------------  -----  \n",
            " 0   Unnamed: 0       1252 non-null   object \n",
            " 1   CoinName         1252 non-null   object \n",
            " 2   Algorithm        1252 non-null   object \n",
            " 3   IsTrading        1252 non-null   bool   \n",
            " 4   ProofType        1252 non-null   object \n",
            " 5   TotalCoinsMined  744 non-null    float64\n",
            " 6   TotalCoinSupply  1252 non-null   object \n",
            "dtypes: bool(1), float64(1), object(5)\n",
            "memory usage: 60.0+ KB\n"
          ]
        }
      ]
    },
    {
      "cell_type": "code",
      "source": [
        "# Count of rows with null values\n",
        "df.isnull().sum()"
      ],
      "metadata": {
        "colab": {
          "base_uri": "https://localhost:8080/"
        },
        "id": "Gl4vnJwUGGUK",
        "outputId": "88e808f9-c40d-4bff-8487-ed84bfc61227"
      },
      "execution_count": null,
      "outputs": [
        {
          "output_type": "execute_result",
          "data": {
            "text/plain": [
              "Unnamed: 0           0\n",
              "CoinName             0\n",
              "Algorithm            0\n",
              "IsTrading            0\n",
              "ProofType            0\n",
              "TotalCoinsMined    508\n",
              "TotalCoinSupply      0\n",
              "dtype: int64"
            ]
          },
          "metadata": {},
          "execution_count": 4
        }
      ]
    },
    {
      "cell_type": "code",
      "source": [
        "#filtering the rows where IsTrading is True \n",
        "df = df[df[\"IsTrading\"]==True]\n"
      ],
      "metadata": {
        "id": "fmVmQ9-hPmMY"
      },
      "execution_count": null,
      "outputs": []
    },
    {
      "cell_type": "code",
      "source": [
        "df.drop(columns=[\"IsTrading\"], inplace=True)"
      ],
      "metadata": {
        "id": "ruT_58f3GTyD"
      },
      "execution_count": null,
      "outputs": []
    },
    {
      "cell_type": "code",
      "source": [
        "# Delete rows with null values\n",
        "df = df.dropna()\n",
        "df.head()"
      ],
      "metadata": {
        "colab": {
          "base_uri": "https://localhost:8080/",
          "height": 206
        },
        "id": "MoguCybXcT4u",
        "outputId": "cfc066c3-b240-4338-ef0e-efa52b8b89e4"
      },
      "execution_count": null,
      "outputs": [
        {
          "output_type": "execute_result",
          "data": {
            "text/plain": [
              "  Unnamed: 0   CoinName Algorithm ProofType  TotalCoinsMined TotalCoinSupply\n",
              "0         42    42 Coin    Scrypt   PoW/PoS     4.199995e+01              42\n",
              "2        404    404Coin    Scrypt   PoW/PoS     1.055185e+09       532000000\n",
              "4        808        808   SHA-256   PoW/PoS     0.000000e+00               0\n",
              "5       1337  EliteCoin       X13   PoW/PoS     2.927942e+10    314159265359\n",
              "7        BTC    Bitcoin   SHA-256       PoW     1.792718e+07        21000000"
            ],
            "text/html": [
              "\n",
              "  <div id=\"df-2596b5c3-17f2-4368-bd1d-560d72d2aa3f\">\n",
              "    <div class=\"colab-df-container\">\n",
              "      <div>\n",
              "<style scoped>\n",
              "    .dataframe tbody tr th:only-of-type {\n",
              "        vertical-align: middle;\n",
              "    }\n",
              "\n",
              "    .dataframe tbody tr th {\n",
              "        vertical-align: top;\n",
              "    }\n",
              "\n",
              "    .dataframe thead th {\n",
              "        text-align: right;\n",
              "    }\n",
              "</style>\n",
              "<table border=\"1\" class=\"dataframe\">\n",
              "  <thead>\n",
              "    <tr style=\"text-align: right;\">\n",
              "      <th></th>\n",
              "      <th>Unnamed: 0</th>\n",
              "      <th>CoinName</th>\n",
              "      <th>Algorithm</th>\n",
              "      <th>ProofType</th>\n",
              "      <th>TotalCoinsMined</th>\n",
              "      <th>TotalCoinSupply</th>\n",
              "    </tr>\n",
              "  </thead>\n",
              "  <tbody>\n",
              "    <tr>\n",
              "      <th>0</th>\n",
              "      <td>42</td>\n",
              "      <td>42 Coin</td>\n",
              "      <td>Scrypt</td>\n",
              "      <td>PoW/PoS</td>\n",
              "      <td>4.199995e+01</td>\n",
              "      <td>42</td>\n",
              "    </tr>\n",
              "    <tr>\n",
              "      <th>2</th>\n",
              "      <td>404</td>\n",
              "      <td>404Coin</td>\n",
              "      <td>Scrypt</td>\n",
              "      <td>PoW/PoS</td>\n",
              "      <td>1.055185e+09</td>\n",
              "      <td>532000000</td>\n",
              "    </tr>\n",
              "    <tr>\n",
              "      <th>4</th>\n",
              "      <td>808</td>\n",
              "      <td>808</td>\n",
              "      <td>SHA-256</td>\n",
              "      <td>PoW/PoS</td>\n",
              "      <td>0.000000e+00</td>\n",
              "      <td>0</td>\n",
              "    </tr>\n",
              "    <tr>\n",
              "      <th>5</th>\n",
              "      <td>1337</td>\n",
              "      <td>EliteCoin</td>\n",
              "      <td>X13</td>\n",
              "      <td>PoW/PoS</td>\n",
              "      <td>2.927942e+10</td>\n",
              "      <td>314159265359</td>\n",
              "    </tr>\n",
              "    <tr>\n",
              "      <th>7</th>\n",
              "      <td>BTC</td>\n",
              "      <td>Bitcoin</td>\n",
              "      <td>SHA-256</td>\n",
              "      <td>PoW</td>\n",
              "      <td>1.792718e+07</td>\n",
              "      <td>21000000</td>\n",
              "    </tr>\n",
              "  </tbody>\n",
              "</table>\n",
              "</div>\n",
              "      <button class=\"colab-df-convert\" onclick=\"convertToInteractive('df-2596b5c3-17f2-4368-bd1d-560d72d2aa3f')\"\n",
              "              title=\"Convert this dataframe to an interactive table.\"\n",
              "              style=\"display:none;\">\n",
              "        \n",
              "  <svg xmlns=\"http://www.w3.org/2000/svg\" height=\"24px\"viewBox=\"0 0 24 24\"\n",
              "       width=\"24px\">\n",
              "    <path d=\"M0 0h24v24H0V0z\" fill=\"none\"/>\n",
              "    <path d=\"M18.56 5.44l.94 2.06.94-2.06 2.06-.94-2.06-.94-.94-2.06-.94 2.06-2.06.94zm-11 1L8.5 8.5l.94-2.06 2.06-.94-2.06-.94L8.5 2.5l-.94 2.06-2.06.94zm10 10l.94 2.06.94-2.06 2.06-.94-2.06-.94-.94-2.06-.94 2.06-2.06.94z\"/><path d=\"M17.41 7.96l-1.37-1.37c-.4-.4-.92-.59-1.43-.59-.52 0-1.04.2-1.43.59L10.3 9.45l-7.72 7.72c-.78.78-.78 2.05 0 2.83L4 21.41c.39.39.9.59 1.41.59.51 0 1.02-.2 1.41-.59l7.78-7.78 2.81-2.81c.8-.78.8-2.07 0-2.86zM5.41 20L4 18.59l7.72-7.72 1.47 1.35L5.41 20z\"/>\n",
              "  </svg>\n",
              "      </button>\n",
              "      \n",
              "  <style>\n",
              "    .colab-df-container {\n",
              "      display:flex;\n",
              "      flex-wrap:wrap;\n",
              "      gap: 12px;\n",
              "    }\n",
              "\n",
              "    .colab-df-convert {\n",
              "      background-color: #E8F0FE;\n",
              "      border: none;\n",
              "      border-radius: 50%;\n",
              "      cursor: pointer;\n",
              "      display: none;\n",
              "      fill: #1967D2;\n",
              "      height: 32px;\n",
              "      padding: 0 0 0 0;\n",
              "      width: 32px;\n",
              "    }\n",
              "\n",
              "    .colab-df-convert:hover {\n",
              "      background-color: #E2EBFA;\n",
              "      box-shadow: 0px 1px 2px rgba(60, 64, 67, 0.3), 0px 1px 3px 1px rgba(60, 64, 67, 0.15);\n",
              "      fill: #174EA6;\n",
              "    }\n",
              "\n",
              "    [theme=dark] .colab-df-convert {\n",
              "      background-color: #3B4455;\n",
              "      fill: #D2E3FC;\n",
              "    }\n",
              "\n",
              "    [theme=dark] .colab-df-convert:hover {\n",
              "      background-color: #434B5C;\n",
              "      box-shadow: 0px 1px 3px 1px rgba(0, 0, 0, 0.15);\n",
              "      filter: drop-shadow(0px 1px 2px rgba(0, 0, 0, 0.3));\n",
              "      fill: #FFFFFF;\n",
              "    }\n",
              "  </style>\n",
              "\n",
              "      <script>\n",
              "        const buttonEl =\n",
              "          document.querySelector('#df-2596b5c3-17f2-4368-bd1d-560d72d2aa3f button.colab-df-convert');\n",
              "        buttonEl.style.display =\n",
              "          google.colab.kernel.accessAllowed ? 'block' : 'none';\n",
              "\n",
              "        async function convertToInteractive(key) {\n",
              "          const element = document.querySelector('#df-2596b5c3-17f2-4368-bd1d-560d72d2aa3f');\n",
              "          const dataTable =\n",
              "            await google.colab.kernel.invokeFunction('convertToInteractive',\n",
              "                                                     [key], {});\n",
              "          if (!dataTable) return;\n",
              "\n",
              "          const docLinkHtml = 'Like what you see? Visit the ' +\n",
              "            '<a target=\"_blank\" href=https://colab.research.google.com/notebooks/data_table.ipynb>data table notebook</a>'\n",
              "            + ' to learn more about interactive tables.';\n",
              "          element.innerHTML = '';\n",
              "          dataTable['output_type'] = 'display_data';\n",
              "          await google.colab.output.renderOutput(dataTable, element);\n",
              "          const docLink = document.createElement('div');\n",
              "          docLink.innerHTML = docLinkHtml;\n",
              "          element.appendChild(docLink);\n",
              "        }\n",
              "      </script>\n",
              "    </div>\n",
              "  </div>\n",
              "  "
            ]
          },
          "metadata": {},
          "execution_count": 7
        }
      ]
    },
    {
      "cell_type": "code",
      "source": [
        "df = df[df[\"TotalCoinsMined\"]> 0]"
      ],
      "metadata": {
        "id": "B-MFuwHcScnS"
      },
      "execution_count": null,
      "outputs": []
    },
    {
      "cell_type": "code",
      "source": [
        "df.drop(columns=[\"Unnamed: 0\", \"CoinName\"], inplace=True)\n"
      ],
      "metadata": {
        "id": "O0qBtyMDSL38"
      },
      "execution_count": null,
      "outputs": []
    },
    {
      "cell_type": "code",
      "source": [
        "# df = df.astype({'TotalCoinSupply':'int'})"
      ],
      "metadata": {
        "id": "WgEvjheaUNqZ"
      },
      "execution_count": null,
      "outputs": []
    },
    {
      "cell_type": "code",
      "source": [
        "df.head()"
      ],
      "metadata": {
        "colab": {
          "base_uri": "https://localhost:8080/",
          "height": 206
        },
        "id": "2OQlp1SZj6e2",
        "outputId": "e823f1fa-dc0c-4d8d-9cf4-45af528b748f"
      },
      "execution_count": null,
      "outputs": [
        {
          "output_type": "execute_result",
          "data": {
            "text/plain": [
              "  Algorithm ProofType  TotalCoinsMined TotalCoinSupply\n",
              "0    Scrypt   PoW/PoS     4.199995e+01              42\n",
              "2    Scrypt   PoW/PoS     1.055185e+09       532000000\n",
              "5       X13   PoW/PoS     2.927942e+10    314159265359\n",
              "7   SHA-256       PoW     1.792718e+07        21000000\n",
              "8    Ethash       PoW     1.076842e+08               0"
            ],
            "text/html": [
              "\n",
              "  <div id=\"df-3ccbb5e9-9035-49a7-a103-134cc8bbb63f\">\n",
              "    <div class=\"colab-df-container\">\n",
              "      <div>\n",
              "<style scoped>\n",
              "    .dataframe tbody tr th:only-of-type {\n",
              "        vertical-align: middle;\n",
              "    }\n",
              "\n",
              "    .dataframe tbody tr th {\n",
              "        vertical-align: top;\n",
              "    }\n",
              "\n",
              "    .dataframe thead th {\n",
              "        text-align: right;\n",
              "    }\n",
              "</style>\n",
              "<table border=\"1\" class=\"dataframe\">\n",
              "  <thead>\n",
              "    <tr style=\"text-align: right;\">\n",
              "      <th></th>\n",
              "      <th>Algorithm</th>\n",
              "      <th>ProofType</th>\n",
              "      <th>TotalCoinsMined</th>\n",
              "      <th>TotalCoinSupply</th>\n",
              "    </tr>\n",
              "  </thead>\n",
              "  <tbody>\n",
              "    <tr>\n",
              "      <th>0</th>\n",
              "      <td>Scrypt</td>\n",
              "      <td>PoW/PoS</td>\n",
              "      <td>4.199995e+01</td>\n",
              "      <td>42</td>\n",
              "    </tr>\n",
              "    <tr>\n",
              "      <th>2</th>\n",
              "      <td>Scrypt</td>\n",
              "      <td>PoW/PoS</td>\n",
              "      <td>1.055185e+09</td>\n",
              "      <td>532000000</td>\n",
              "    </tr>\n",
              "    <tr>\n",
              "      <th>5</th>\n",
              "      <td>X13</td>\n",
              "      <td>PoW/PoS</td>\n",
              "      <td>2.927942e+10</td>\n",
              "      <td>314159265359</td>\n",
              "    </tr>\n",
              "    <tr>\n",
              "      <th>7</th>\n",
              "      <td>SHA-256</td>\n",
              "      <td>PoW</td>\n",
              "      <td>1.792718e+07</td>\n",
              "      <td>21000000</td>\n",
              "    </tr>\n",
              "    <tr>\n",
              "      <th>8</th>\n",
              "      <td>Ethash</td>\n",
              "      <td>PoW</td>\n",
              "      <td>1.076842e+08</td>\n",
              "      <td>0</td>\n",
              "    </tr>\n",
              "  </tbody>\n",
              "</table>\n",
              "</div>\n",
              "      <button class=\"colab-df-convert\" onclick=\"convertToInteractive('df-3ccbb5e9-9035-49a7-a103-134cc8bbb63f')\"\n",
              "              title=\"Convert this dataframe to an interactive table.\"\n",
              "              style=\"display:none;\">\n",
              "        \n",
              "  <svg xmlns=\"http://www.w3.org/2000/svg\" height=\"24px\"viewBox=\"0 0 24 24\"\n",
              "       width=\"24px\">\n",
              "    <path d=\"M0 0h24v24H0V0z\" fill=\"none\"/>\n",
              "    <path d=\"M18.56 5.44l.94 2.06.94-2.06 2.06-.94-2.06-.94-.94-2.06-.94 2.06-2.06.94zm-11 1L8.5 8.5l.94-2.06 2.06-.94-2.06-.94L8.5 2.5l-.94 2.06-2.06.94zm10 10l.94 2.06.94-2.06 2.06-.94-2.06-.94-.94-2.06-.94 2.06-2.06.94z\"/><path d=\"M17.41 7.96l-1.37-1.37c-.4-.4-.92-.59-1.43-.59-.52 0-1.04.2-1.43.59L10.3 9.45l-7.72 7.72c-.78.78-.78 2.05 0 2.83L4 21.41c.39.39.9.59 1.41.59.51 0 1.02-.2 1.41-.59l7.78-7.78 2.81-2.81c.8-.78.8-2.07 0-2.86zM5.41 20L4 18.59l7.72-7.72 1.47 1.35L5.41 20z\"/>\n",
              "  </svg>\n",
              "      </button>\n",
              "      \n",
              "  <style>\n",
              "    .colab-df-container {\n",
              "      display:flex;\n",
              "      flex-wrap:wrap;\n",
              "      gap: 12px;\n",
              "    }\n",
              "\n",
              "    .colab-df-convert {\n",
              "      background-color: #E8F0FE;\n",
              "      border: none;\n",
              "      border-radius: 50%;\n",
              "      cursor: pointer;\n",
              "      display: none;\n",
              "      fill: #1967D2;\n",
              "      height: 32px;\n",
              "      padding: 0 0 0 0;\n",
              "      width: 32px;\n",
              "    }\n",
              "\n",
              "    .colab-df-convert:hover {\n",
              "      background-color: #E2EBFA;\n",
              "      box-shadow: 0px 1px 2px rgba(60, 64, 67, 0.3), 0px 1px 3px 1px rgba(60, 64, 67, 0.15);\n",
              "      fill: #174EA6;\n",
              "    }\n",
              "\n",
              "    [theme=dark] .colab-df-convert {\n",
              "      background-color: #3B4455;\n",
              "      fill: #D2E3FC;\n",
              "    }\n",
              "\n",
              "    [theme=dark] .colab-df-convert:hover {\n",
              "      background-color: #434B5C;\n",
              "      box-shadow: 0px 1px 3px 1px rgba(0, 0, 0, 0.15);\n",
              "      filter: drop-shadow(0px 1px 2px rgba(0, 0, 0, 0.3));\n",
              "      fill: #FFFFFF;\n",
              "    }\n",
              "  </style>\n",
              "\n",
              "      <script>\n",
              "        const buttonEl =\n",
              "          document.querySelector('#df-3ccbb5e9-9035-49a7-a103-134cc8bbb63f button.colab-df-convert');\n",
              "        buttonEl.style.display =\n",
              "          google.colab.kernel.accessAllowed ? 'block' : 'none';\n",
              "\n",
              "        async function convertToInteractive(key) {\n",
              "          const element = document.querySelector('#df-3ccbb5e9-9035-49a7-a103-134cc8bbb63f');\n",
              "          const dataTable =\n",
              "            await google.colab.kernel.invokeFunction('convertToInteractive',\n",
              "                                                     [key], {});\n",
              "          if (!dataTable) return;\n",
              "\n",
              "          const docLinkHtml = 'Like what you see? Visit the ' +\n",
              "            '<a target=\"_blank\" href=https://colab.research.google.com/notebooks/data_table.ipynb>data table notebook</a>'\n",
              "            + ' to learn more about interactive tables.';\n",
              "          element.innerHTML = '';\n",
              "          dataTable['output_type'] = 'display_data';\n",
              "          await google.colab.output.renderOutput(dataTable, element);\n",
              "          const docLink = document.createElement('div');\n",
              "          docLink.innerHTML = docLinkHtml;\n",
              "          element.appendChild(docLink);\n",
              "        }\n",
              "      </script>\n",
              "    </div>\n",
              "  </div>\n",
              "  "
            ]
          },
          "metadata": {},
          "execution_count": 10
        }
      ]
    },
    {
      "cell_type": "code",
      "source": [
        "df.shape"
      ],
      "metadata": {
        "colab": {
          "base_uri": "https://localhost:8080/"
        },
        "id": "6PedkbqmiddX",
        "outputId": "a5eacdc4-195f-4ad7-8f17-a86150620edd"
      },
      "execution_count": null,
      "outputs": [
        {
          "output_type": "execute_result",
          "data": {
            "text/plain": [
              "(532, 4)"
            ]
          },
          "metadata": {},
          "execution_count": 11
        }
      ]
    },
    {
      "cell_type": "code",
      "source": [
        "df= pd.get_dummies(df, columns= [\"Algorithm\", \"ProofType\"])\n",
        "print(df.shape)\n",
        "df.head()"
      ],
      "metadata": {
        "colab": {
          "base_uri": "https://localhost:8080/",
          "height": 352
        },
        "id": "LPtPy1rUuH5Y",
        "outputId": "905a72ba-406a-498e-c74e-88233975dcf8"
      },
      "execution_count": null,
      "outputs": [
        {
          "output_type": "stream",
          "name": "stdout",
          "text": [
            "(532, 98)\n"
          ]
        },
        {
          "output_type": "execute_result",
          "data": {
            "text/plain": [
              "   TotalCoinsMined TotalCoinSupply  Algorithm_1GB AES Pattern Search  \\\n",
              "0     4.199995e+01              42                                 0   \n",
              "2     1.055185e+09       532000000                                 0   \n",
              "5     2.927942e+10    314159265359                                 0   \n",
              "7     1.792718e+07        21000000                                 0   \n",
              "8     1.076842e+08               0                                 0   \n",
              "\n",
              "   Algorithm_536  Algorithm_Argon2d  Algorithm_BLAKE256  Algorithm_Blake  \\\n",
              "0              0                  0                   0                0   \n",
              "2              0                  0                   0                0   \n",
              "5              0                  0                   0                0   \n",
              "7              0                  0                   0                0   \n",
              "8              0                  0                   0                0   \n",
              "\n",
              "   Algorithm_Blake2S  Algorithm_Blake2b  Algorithm_C11  ...  \\\n",
              "0                  0                  0              0  ...   \n",
              "2                  0                  0              0  ...   \n",
              "5                  0                  0              0  ...   \n",
              "7                  0                  0              0  ...   \n",
              "8                  0                  0              0  ...   \n",
              "\n",
              "   ProofType_PoW/PoS  ProofType_PoW/PoS   ProofType_PoW/PoW  \\\n",
              "0                  1                   0                  0   \n",
              "2                  1                   0                  0   \n",
              "5                  1                   0                  0   \n",
              "7                  0                   0                  0   \n",
              "8                  0                   0                  0   \n",
              "\n",
              "   ProofType_PoW/nPoS  ProofType_Pos  ProofType_Proof of Authority  \\\n",
              "0                   0              0                             0   \n",
              "2                   0              0                             0   \n",
              "5                   0              0                             0   \n",
              "7                   0              0                             0   \n",
              "8                   0              0                             0   \n",
              "\n",
              "   ProofType_Proof of Trust  ProofType_TPoS  ProofType_Zero-Knowledge Proof  \\\n",
              "0                         0               0                               0   \n",
              "2                         0               0                               0   \n",
              "5                         0               0                               0   \n",
              "7                         0               0                               0   \n",
              "8                         0               0                               0   \n",
              "\n",
              "   ProofType_dPoW/PoW  \n",
              "0                   0  \n",
              "2                   0  \n",
              "5                   0  \n",
              "7                   0  \n",
              "8                   0  \n",
              "\n",
              "[5 rows x 98 columns]"
            ],
            "text/html": [
              "\n",
              "  <div id=\"df-ed0e78c2-fa3c-4656-b219-05039f10db0d\">\n",
              "    <div class=\"colab-df-container\">\n",
              "      <div>\n",
              "<style scoped>\n",
              "    .dataframe tbody tr th:only-of-type {\n",
              "        vertical-align: middle;\n",
              "    }\n",
              "\n",
              "    .dataframe tbody tr th {\n",
              "        vertical-align: top;\n",
              "    }\n",
              "\n",
              "    .dataframe thead th {\n",
              "        text-align: right;\n",
              "    }\n",
              "</style>\n",
              "<table border=\"1\" class=\"dataframe\">\n",
              "  <thead>\n",
              "    <tr style=\"text-align: right;\">\n",
              "      <th></th>\n",
              "      <th>TotalCoinsMined</th>\n",
              "      <th>TotalCoinSupply</th>\n",
              "      <th>Algorithm_1GB AES Pattern Search</th>\n",
              "      <th>Algorithm_536</th>\n",
              "      <th>Algorithm_Argon2d</th>\n",
              "      <th>Algorithm_BLAKE256</th>\n",
              "      <th>Algorithm_Blake</th>\n",
              "      <th>Algorithm_Blake2S</th>\n",
              "      <th>Algorithm_Blake2b</th>\n",
              "      <th>Algorithm_C11</th>\n",
              "      <th>...</th>\n",
              "      <th>ProofType_PoW/PoS</th>\n",
              "      <th>ProofType_PoW/PoS</th>\n",
              "      <th>ProofType_PoW/PoW</th>\n",
              "      <th>ProofType_PoW/nPoS</th>\n",
              "      <th>ProofType_Pos</th>\n",
              "      <th>ProofType_Proof of Authority</th>\n",
              "      <th>ProofType_Proof of Trust</th>\n",
              "      <th>ProofType_TPoS</th>\n",
              "      <th>ProofType_Zero-Knowledge Proof</th>\n",
              "      <th>ProofType_dPoW/PoW</th>\n",
              "    </tr>\n",
              "  </thead>\n",
              "  <tbody>\n",
              "    <tr>\n",
              "      <th>0</th>\n",
              "      <td>4.199995e+01</td>\n",
              "      <td>42</td>\n",
              "      <td>0</td>\n",
              "      <td>0</td>\n",
              "      <td>0</td>\n",
              "      <td>0</td>\n",
              "      <td>0</td>\n",
              "      <td>0</td>\n",
              "      <td>0</td>\n",
              "      <td>0</td>\n",
              "      <td>...</td>\n",
              "      <td>1</td>\n",
              "      <td>0</td>\n",
              "      <td>0</td>\n",
              "      <td>0</td>\n",
              "      <td>0</td>\n",
              "      <td>0</td>\n",
              "      <td>0</td>\n",
              "      <td>0</td>\n",
              "      <td>0</td>\n",
              "      <td>0</td>\n",
              "    </tr>\n",
              "    <tr>\n",
              "      <th>2</th>\n",
              "      <td>1.055185e+09</td>\n",
              "      <td>532000000</td>\n",
              "      <td>0</td>\n",
              "      <td>0</td>\n",
              "      <td>0</td>\n",
              "      <td>0</td>\n",
              "      <td>0</td>\n",
              "      <td>0</td>\n",
              "      <td>0</td>\n",
              "      <td>0</td>\n",
              "      <td>...</td>\n",
              "      <td>1</td>\n",
              "      <td>0</td>\n",
              "      <td>0</td>\n",
              "      <td>0</td>\n",
              "      <td>0</td>\n",
              "      <td>0</td>\n",
              "      <td>0</td>\n",
              "      <td>0</td>\n",
              "      <td>0</td>\n",
              "      <td>0</td>\n",
              "    </tr>\n",
              "    <tr>\n",
              "      <th>5</th>\n",
              "      <td>2.927942e+10</td>\n",
              "      <td>314159265359</td>\n",
              "      <td>0</td>\n",
              "      <td>0</td>\n",
              "      <td>0</td>\n",
              "      <td>0</td>\n",
              "      <td>0</td>\n",
              "      <td>0</td>\n",
              "      <td>0</td>\n",
              "      <td>0</td>\n",
              "      <td>...</td>\n",
              "      <td>1</td>\n",
              "      <td>0</td>\n",
              "      <td>0</td>\n",
              "      <td>0</td>\n",
              "      <td>0</td>\n",
              "      <td>0</td>\n",
              "      <td>0</td>\n",
              "      <td>0</td>\n",
              "      <td>0</td>\n",
              "      <td>0</td>\n",
              "    </tr>\n",
              "    <tr>\n",
              "      <th>7</th>\n",
              "      <td>1.792718e+07</td>\n",
              "      <td>21000000</td>\n",
              "      <td>0</td>\n",
              "      <td>0</td>\n",
              "      <td>0</td>\n",
              "      <td>0</td>\n",
              "      <td>0</td>\n",
              "      <td>0</td>\n",
              "      <td>0</td>\n",
              "      <td>0</td>\n",
              "      <td>...</td>\n",
              "      <td>0</td>\n",
              "      <td>0</td>\n",
              "      <td>0</td>\n",
              "      <td>0</td>\n",
              "      <td>0</td>\n",
              "      <td>0</td>\n",
              "      <td>0</td>\n",
              "      <td>0</td>\n",
              "      <td>0</td>\n",
              "      <td>0</td>\n",
              "    </tr>\n",
              "    <tr>\n",
              "      <th>8</th>\n",
              "      <td>1.076842e+08</td>\n",
              "      <td>0</td>\n",
              "      <td>0</td>\n",
              "      <td>0</td>\n",
              "      <td>0</td>\n",
              "      <td>0</td>\n",
              "      <td>0</td>\n",
              "      <td>0</td>\n",
              "      <td>0</td>\n",
              "      <td>0</td>\n",
              "      <td>...</td>\n",
              "      <td>0</td>\n",
              "      <td>0</td>\n",
              "      <td>0</td>\n",
              "      <td>0</td>\n",
              "      <td>0</td>\n",
              "      <td>0</td>\n",
              "      <td>0</td>\n",
              "      <td>0</td>\n",
              "      <td>0</td>\n",
              "      <td>0</td>\n",
              "    </tr>\n",
              "  </tbody>\n",
              "</table>\n",
              "<p>5 rows × 98 columns</p>\n",
              "</div>\n",
              "      <button class=\"colab-df-convert\" onclick=\"convertToInteractive('df-ed0e78c2-fa3c-4656-b219-05039f10db0d')\"\n",
              "              title=\"Convert this dataframe to an interactive table.\"\n",
              "              style=\"display:none;\">\n",
              "        \n",
              "  <svg xmlns=\"http://www.w3.org/2000/svg\" height=\"24px\"viewBox=\"0 0 24 24\"\n",
              "       width=\"24px\">\n",
              "    <path d=\"M0 0h24v24H0V0z\" fill=\"none\"/>\n",
              "    <path d=\"M18.56 5.44l.94 2.06.94-2.06 2.06-.94-2.06-.94-.94-2.06-.94 2.06-2.06.94zm-11 1L8.5 8.5l.94-2.06 2.06-.94-2.06-.94L8.5 2.5l-.94 2.06-2.06.94zm10 10l.94 2.06.94-2.06 2.06-.94-2.06-.94-.94-2.06-.94 2.06-2.06.94z\"/><path d=\"M17.41 7.96l-1.37-1.37c-.4-.4-.92-.59-1.43-.59-.52 0-1.04.2-1.43.59L10.3 9.45l-7.72 7.72c-.78.78-.78 2.05 0 2.83L4 21.41c.39.39.9.59 1.41.59.51 0 1.02-.2 1.41-.59l7.78-7.78 2.81-2.81c.8-.78.8-2.07 0-2.86zM5.41 20L4 18.59l7.72-7.72 1.47 1.35L5.41 20z\"/>\n",
              "  </svg>\n",
              "      </button>\n",
              "      \n",
              "  <style>\n",
              "    .colab-df-container {\n",
              "      display:flex;\n",
              "      flex-wrap:wrap;\n",
              "      gap: 12px;\n",
              "    }\n",
              "\n",
              "    .colab-df-convert {\n",
              "      background-color: #E8F0FE;\n",
              "      border: none;\n",
              "      border-radius: 50%;\n",
              "      cursor: pointer;\n",
              "      display: none;\n",
              "      fill: #1967D2;\n",
              "      height: 32px;\n",
              "      padding: 0 0 0 0;\n",
              "      width: 32px;\n",
              "    }\n",
              "\n",
              "    .colab-df-convert:hover {\n",
              "      background-color: #E2EBFA;\n",
              "      box-shadow: 0px 1px 2px rgba(60, 64, 67, 0.3), 0px 1px 3px 1px rgba(60, 64, 67, 0.15);\n",
              "      fill: #174EA6;\n",
              "    }\n",
              "\n",
              "    [theme=dark] .colab-df-convert {\n",
              "      background-color: #3B4455;\n",
              "      fill: #D2E3FC;\n",
              "    }\n",
              "\n",
              "    [theme=dark] .colab-df-convert:hover {\n",
              "      background-color: #434B5C;\n",
              "      box-shadow: 0px 1px 3px 1px rgba(0, 0, 0, 0.15);\n",
              "      filter: drop-shadow(0px 1px 2px rgba(0, 0, 0, 0.3));\n",
              "      fill: #FFFFFF;\n",
              "    }\n",
              "  </style>\n",
              "\n",
              "      <script>\n",
              "        const buttonEl =\n",
              "          document.querySelector('#df-ed0e78c2-fa3c-4656-b219-05039f10db0d button.colab-df-convert');\n",
              "        buttonEl.style.display =\n",
              "          google.colab.kernel.accessAllowed ? 'block' : 'none';\n",
              "\n",
              "        async function convertToInteractive(key) {\n",
              "          const element = document.querySelector('#df-ed0e78c2-fa3c-4656-b219-05039f10db0d');\n",
              "          const dataTable =\n",
              "            await google.colab.kernel.invokeFunction('convertToInteractive',\n",
              "                                                     [key], {});\n",
              "          if (!dataTable) return;\n",
              "\n",
              "          const docLinkHtml = 'Like what you see? Visit the ' +\n",
              "            '<a target=\"_blank\" href=https://colab.research.google.com/notebooks/data_table.ipynb>data table notebook</a>'\n",
              "            + ' to learn more about interactive tables.';\n",
              "          element.innerHTML = '';\n",
              "          dataTable['output_type'] = 'display_data';\n",
              "          await google.colab.output.renderOutput(dataTable, element);\n",
              "          const docLink = document.createElement('div');\n",
              "          docLink.innerHTML = docLinkHtml;\n",
              "          element.appendChild(docLink);\n",
              "        }\n",
              "      </script>\n",
              "    </div>\n",
              "  </div>\n",
              "  "
            ]
          },
          "metadata": {},
          "execution_count": 12
        }
      ]
    },
    {
      "cell_type": "code",
      "source": [
        "df.info()"
      ],
      "metadata": {
        "colab": {
          "base_uri": "https://localhost:8080/"
        },
        "id": "r4SCfXuPS97s",
        "outputId": "b1367993-8235-4649-98d9-f97215176c98"
      },
      "execution_count": null,
      "outputs": [
        {
          "output_type": "stream",
          "name": "stdout",
          "text": [
            "<class 'pandas.core.frame.DataFrame'>\n",
            "Int64Index: 532 entries, 0 to 1247\n",
            "Data columns (total 98 columns):\n",
            " #   Column                            Non-Null Count  Dtype  \n",
            "---  ------                            --------------  -----  \n",
            " 0   TotalCoinsMined                   532 non-null    float64\n",
            " 1   TotalCoinSupply                   532 non-null    object \n",
            " 2   Algorithm_1GB AES Pattern Search  532 non-null    uint8  \n",
            " 3   Algorithm_536                     532 non-null    uint8  \n",
            " 4   Algorithm_Argon2d                 532 non-null    uint8  \n",
            " 5   Algorithm_BLAKE256                532 non-null    uint8  \n",
            " 6   Algorithm_Blake                   532 non-null    uint8  \n",
            " 7   Algorithm_Blake2S                 532 non-null    uint8  \n",
            " 8   Algorithm_Blake2b                 532 non-null    uint8  \n",
            " 9   Algorithm_C11                     532 non-null    uint8  \n",
            " 10  Algorithm_Cloverhash              532 non-null    uint8  \n",
            " 11  Algorithm_Counterparty            532 non-null    uint8  \n",
            " 12  Algorithm_CryptoNight             532 non-null    uint8  \n",
            " 13  Algorithm_CryptoNight Heavy       532 non-null    uint8  \n",
            " 14  Algorithm_CryptoNight-V7          532 non-null    uint8  \n",
            " 15  Algorithm_Cryptonight-GPU         532 non-null    uint8  \n",
            " 16  Algorithm_DPoS                    532 non-null    uint8  \n",
            " 17  Algorithm_Dagger                  532 non-null    uint8  \n",
            " 18  Algorithm_Dagger-Hashimoto        532 non-null    uint8  \n",
            " 19  Algorithm_ECC 256K1               532 non-null    uint8  \n",
            " 20  Algorithm_Equihash                532 non-null    uint8  \n",
            " 21  Algorithm_Equihash+Scrypt         532 non-null    uint8  \n",
            " 22  Algorithm_Ethash                  532 non-null    uint8  \n",
            " 23  Algorithm_Exosis                  532 non-null    uint8  \n",
            " 24  Algorithm_Green Protocol          532 non-null    uint8  \n",
            " 25  Algorithm_Groestl                 532 non-null    uint8  \n",
            " 26  Algorithm_HMQ1725                 532 non-null    uint8  \n",
            " 27  Algorithm_HybridScryptHash256     532 non-null    uint8  \n",
            " 28  Algorithm_IMesh                   532 non-null    uint8  \n",
            " 29  Algorithm_Jump Consistent Hash    532 non-null    uint8  \n",
            " 30  Algorithm_Keccak                  532 non-null    uint8  \n",
            " 31  Algorithm_Leased POS              532 non-null    uint8  \n",
            " 32  Algorithm_Lyra2RE                 532 non-null    uint8  \n",
            " 33  Algorithm_Lyra2REv2               532 non-null    uint8  \n",
            " 34  Algorithm_Lyra2Z                  532 non-null    uint8  \n",
            " 35  Algorithm_M7 POW                  532 non-null    uint8  \n",
            " 36  Algorithm_Multiple                532 non-null    uint8  \n",
            " 37  Algorithm_NIST5                   532 non-null    uint8  \n",
            " 38  Algorithm_NeoScrypt               532 non-null    uint8  \n",
            " 39  Algorithm_Ouroboros               532 non-null    uint8  \n",
            " 40  Algorithm_PHI1612                 532 non-null    uint8  \n",
            " 41  Algorithm_POS 2.0                 532 non-null    uint8  \n",
            " 42  Algorithm_POS 3.0                 532 non-null    uint8  \n",
            " 43  Algorithm_PoS                     532 non-null    uint8  \n",
            " 44  Algorithm_Proof-of-Authority      532 non-null    uint8  \n",
            " 45  Algorithm_Proof-of-BibleHash      532 non-null    uint8  \n",
            " 46  Algorithm_QUAIT                   532 non-null    uint8  \n",
            " 47  Algorithm_QuBit                   532 non-null    uint8  \n",
            " 48  Algorithm_Quark                   532 non-null    uint8  \n",
            " 49  Algorithm_SHA-256                 532 non-null    uint8  \n",
            " 50  Algorithm_SHA-256 + Hive          532 non-null    uint8  \n",
            " 51  Algorithm_SHA-256D                532 non-null    uint8  \n",
            " 52  Algorithm_SHA-512                 532 non-null    uint8  \n",
            " 53  Algorithm_SHA3                    532 non-null    uint8  \n",
            " 54  Algorithm_Scrypt                  532 non-null    uint8  \n",
            " 55  Algorithm_Semux BFT consensus     532 non-null    uint8  \n",
            " 56  Algorithm_Shabal256               532 non-null    uint8  \n",
            " 57  Algorithm_Skein                   532 non-null    uint8  \n",
            " 58  Algorithm_SkunkHash               532 non-null    uint8  \n",
            " 59  Algorithm_SkunkHash v2 Raptor     532 non-null    uint8  \n",
            " 60  Algorithm_Stanford Folding        532 non-null    uint8  \n",
            " 61  Algorithm_TRC10                   532 non-null    uint8  \n",
            " 62  Algorithm_Time Travel             532 non-null    uint8  \n",
            " 63  Algorithm_Tribus                  532 non-null    uint8  \n",
            " 64  Algorithm_VBFT                    532 non-null    uint8  \n",
            " 65  Algorithm_VeChainThor Authority   532 non-null    uint8  \n",
            " 66  Algorithm_X11                     532 non-null    uint8  \n",
            " 67  Algorithm_X11GOST                 532 non-null    uint8  \n",
            " 68  Algorithm_X13                     532 non-null    uint8  \n",
            " 69  Algorithm_X14                     532 non-null    uint8  \n",
            " 70  Algorithm_X15                     532 non-null    uint8  \n",
            " 71  Algorithm_X16R                    532 non-null    uint8  \n",
            " 72  Algorithm_XEVAN                   532 non-null    uint8  \n",
            " 73  ProofType_DPOS                    532 non-null    uint8  \n",
            " 74  ProofType_DPoS                    532 non-null    uint8  \n",
            " 75  ProofType_HPoW                    532 non-null    uint8  \n",
            " 76  ProofType_LPoS                    532 non-null    uint8  \n",
            " 77  ProofType_POBh                    532 non-null    uint8  \n",
            " 78  ProofType_PoA                     532 non-null    uint8  \n",
            " 79  ProofType_PoC                     532 non-null    uint8  \n",
            " 80  ProofType_PoS                     532 non-null    uint8  \n",
            " 81  ProofType_PoS/LPoS                532 non-null    uint8  \n",
            " 82  ProofType_PoS/PoW                 532 non-null    uint8  \n",
            " 83  ProofType_PoS/PoW/PoT             532 non-null    uint8  \n",
            " 84  ProofType_PoST                    532 non-null    uint8  \n",
            " 85  ProofType_PoW                     532 non-null    uint8  \n",
            " 86  ProofType_PoW + Hive              532 non-null    uint8  \n",
            " 87  ProofType_PoW and PoS             532 non-null    uint8  \n",
            " 88  ProofType_PoW/PoS                 532 non-null    uint8  \n",
            " 89  ProofType_PoW/PoS                 532 non-null    uint8  \n",
            " 90  ProofType_PoW/PoW                 532 non-null    uint8  \n",
            " 91  ProofType_PoW/nPoS                532 non-null    uint8  \n",
            " 92  ProofType_Pos                     532 non-null    uint8  \n",
            " 93  ProofType_Proof of Authority      532 non-null    uint8  \n",
            " 94  ProofType_Proof of Trust          532 non-null    uint8  \n",
            " 95  ProofType_TPoS                    532 non-null    uint8  \n",
            " 96  ProofType_Zero-Knowledge Proof    532 non-null    uint8  \n",
            " 97  ProofType_dPoW/PoW                532 non-null    uint8  \n",
            "dtypes: float64(1), object(1), uint8(96)\n",
            "memory usage: 62.3+ KB\n"
          ]
        }
      ]
    },
    {
      "cell_type": "markdown",
      "source": [
        "Want to leave this code for my notes. \n",
        "\n",
        "df = pd.get_dummies(df.select_dtypes(include=\"object\"))\n",
        "print(df.shape)\n",
        "df.head()"
      ],
      "metadata": {
        "id": "n7kEzhOmsnPV"
      }
    },
    {
      "cell_type": "markdown",
      "source": [
        "Want to leave this code for my notes. \n",
        "\n",
        "df=pd.concat([df.select_dtypes(exclude=\"object\"),pd.get_dummies(df.select_dtypes(include=\"object\"))], axis=1)\n",
        "df.head()"
      ],
      "metadata": {
        "id": "d5fEXINos1SQ"
      }
    },
    {
      "cell_type": "code",
      "source": [
        "scaler = StandardScaler().fit(df)\n",
        "df_scaled = scaler.transform(df)\n",
        "df_scaled"
      ],
      "metadata": {
        "colab": {
          "base_uri": "https://localhost:8080/"
        },
        "id": "AnNYxCytVjJH",
        "outputId": "1b9e4e6e-14b8-4b73-96f4-056ff8579265"
      },
      "execution_count": null,
      "outputs": [
        {
          "output_type": "execute_result",
          "data": {
            "text/plain": [
              "array([[-0.11710817, -0.1528703 , -0.0433963 , ..., -0.0433963 ,\n",
              "        -0.0433963 , -0.0433963 ],\n",
              "       [-0.09396955, -0.145009  , -0.0433963 , ..., -0.0433963 ,\n",
              "        -0.0433963 , -0.0433963 ],\n",
              "       [ 0.52494561,  4.48942416, -0.0433963 , ..., -0.0433963 ,\n",
              "        -0.0433963 , -0.0433963 ],\n",
              "       ...,\n",
              "       [-0.09561336, -0.13217937, -0.0433963 , ..., -0.0433963 ,\n",
              "        -0.0433963 , -0.0433963 ],\n",
              "       [-0.11694817, -0.15255998, -0.0433963 , ..., -0.0433963 ,\n",
              "        -0.0433963 , -0.0433963 ],\n",
              "       [-0.11710536, -0.15285552, -0.0433963 , ..., -0.0433963 ,\n",
              "        -0.0433963 , -0.0433963 ]])"
            ]
          },
          "metadata": {},
          "execution_count": 14
        }
      ]
    },
    {
      "cell_type": "code",
      "source": [
        "df_scaled.shape"
      ],
      "metadata": {
        "colab": {
          "base_uri": "https://localhost:8080/"
        },
        "id": "6rW00o-ZhQkl",
        "outputId": "b5badebd-0e32-4387-d4a6-58210000ec2f"
      },
      "execution_count": null,
      "outputs": [
        {
          "output_type": "execute_result",
          "data": {
            "text/plain": [
              "(532, 98)"
            ]
          },
          "metadata": {},
          "execution_count": 15
        }
      ]
    },
    {
      "cell_type": "code",
      "source": [
        "# Initialize PCA model with 0.99\n",
        "pca = PCA(n_components=0.99)\n",
        "\n",
        "df_pca = pca.fit_transform(df_scaled)\n",
        "df_pca.shape"
      ],
      "metadata": {
        "colab": {
          "base_uri": "https://localhost:8080/"
        },
        "id": "NePYS3OJWaN7",
        "outputId": "04dbfc94-d0f6-4818-c02f-749970789bec"
      },
      "execution_count": null,
      "outputs": [
        {
          "output_type": "execute_result",
          "data": {
            "text/plain": [
              "(532, 86)"
            ]
          },
          "metadata": {},
          "execution_count": 16
        }
      ]
    },
    {
      "cell_type": "code",
      "source": [
        "# Fetch the explained variance\n",
        "pca.explained_variance_ratio_"
      ],
      "metadata": {
        "colab": {
          "base_uri": "https://localhost:8080/"
        },
        "id": "RffHNtIHlXco",
        "outputId": "acaec1c0-ddef-4e89-a733-29948a65496c"
      },
      "execution_count": null,
      "outputs": [
        {
          "output_type": "execute_result",
          "data": {
            "text/plain": [
              "array([0.0279317 , 0.02141802, 0.02051615, 0.02044661, 0.0204466 ,\n",
              "       0.0204466 , 0.0204466 , 0.02042554, 0.01870913, 0.01756291,\n",
              "       0.01741106, 0.01629007, 0.01596154, 0.01551138, 0.01435005,\n",
              "       0.01321122, 0.01236583, 0.01206255, 0.01104295, 0.01071499,\n",
              "       0.01049079, 0.01040887, 0.01039089, 0.01037741, 0.01035414,\n",
              "       0.01034034, 0.01029605, 0.01028233, 0.01028139, 0.01028139,\n",
              "       0.01028138, 0.01027965, 0.01027051, 0.01026331, 0.01026202,\n",
              "       0.01025761, 0.01025565, 0.01025068, 0.01024924, 0.01024279,\n",
              "       0.01024259, 0.01024259, 0.0102419 , 0.01024018, 0.01023676,\n",
              "       0.01023495, 0.01023   , 0.01022442, 0.0102233 , 0.0102233 ,\n",
              "       0.0102233 , 0.0102233 , 0.0102233 , 0.0102233 , 0.0102233 ,\n",
              "       0.0102233 , 0.0102233 , 0.0102233 , 0.0102233 , 0.0102233 ,\n",
              "       0.0102233 , 0.0102233 , 0.0102233 , 0.0102233 , 0.0102233 ,\n",
              "       0.0102233 , 0.0102233 , 0.0102233 , 0.0102233 , 0.0102233 ,\n",
              "       0.0102233 , 0.0102233 , 0.0102233 , 0.0102233 , 0.0102233 ,\n",
              "       0.0102233 , 0.0102233 , 0.00963118, 0.00904029, 0.00875676,\n",
              "       0.00762015, 0.00633956, 0.00517976, 0.00495366, 0.00431432,\n",
              "       0.00392106])"
            ]
          },
          "metadata": {},
          "execution_count": 17
        }
      ]
    },
    {
      "cell_type": "code",
      "source": [
        "pca.explained_variance_.sum()"
      ],
      "metadata": {
        "colab": {
          "base_uri": "https://localhost:8080/"
        },
        "id": "9LS4nRdPyi8Q",
        "outputId": "7e6c0c73-2dbc-4e6a-da94-92e0d4318171"
      },
      "execution_count": null,
      "outputs": [
        {
          "output_type": "execute_result",
          "data": {
            "text/plain": [
              "97.35133315075765"
            ]
          },
          "metadata": {},
          "execution_count": 18
        }
      ]
    },
    {
      "cell_type": "code",
      "source": [
        "# Initialize PCA model with 0.90\n",
        "pca = PCA(n_components=0.90)\n",
        "\n",
        "df_pca = pca.fit_transform(df_scaled)\n",
        "df_pca.shape"
      ],
      "metadata": {
        "colab": {
          "base_uri": "https://localhost:8080/"
        },
        "id": "OJgLRIIry6yQ",
        "outputId": "8079928b-f540-4166-ea5e-f8ef3ea468b0"
      },
      "execution_count": null,
      "outputs": [
        {
          "output_type": "execute_result",
          "data": {
            "text/plain": [
              "(532, 74)"
            ]
          },
          "metadata": {},
          "execution_count": 19
        }
      ]
    },
    {
      "cell_type": "code",
      "source": [
        "pca.explained_variance_.sum()"
      ],
      "metadata": {
        "colab": {
          "base_uri": "https://localhost:8080/"
        },
        "id": "xP86IvBJzIwh",
        "outputId": "35454f23-5c7a-43b5-c486-075c864973eb"
      },
      "execution_count": null,
      "outputs": [
        {
          "output_type": "execute_result",
          "data": {
            "text/plain": [
              "88.47283457566155"
            ]
          },
          "metadata": {},
          "execution_count": 21
        }
      ]
    },
    {
      "cell_type": "code",
      "source": [
        "#t-SNE\n",
        "X_embedded = TSNE(random_state=42).fit_transform(df_pca)\n",
        "X_embedded.shape"
      ],
      "metadata": {
        "colab": {
          "base_uri": "https://localhost:8080/"
        },
        "id": "4CQiUVRes43X",
        "outputId": "7ac26b6d-dce5-43a0-ad3b-d149f82e2ae7"
      },
      "execution_count": null,
      "outputs": [
        {
          "output_type": "stream",
          "name": "stderr",
          "text": [
            "/usr/local/lib/python3.7/dist-packages/sklearn/manifold/_t_sne.py:783: FutureWarning: The default initialization in TSNE will change from 'random' to 'pca' in 1.2.\n",
            "  FutureWarning,\n",
            "/usr/local/lib/python3.7/dist-packages/sklearn/manifold/_t_sne.py:793: FutureWarning: The default learning rate in TSNE will change from 200.0 to 'auto' in 1.2.\n",
            "  FutureWarning,\n"
          ]
        },
        {
          "output_type": "execute_result",
          "data": {
            "text/plain": [
              "(532, 2)"
            ]
          },
          "metadata": {},
          "execution_count": 22
        }
      ]
    },
    {
      "cell_type": "code",
      "source": [
        "# Plot results of the t-SNE output \n",
        "plt.scatter(X_embedded[:,0], X_embedded[:,1])\n",
        "plt.show()"
      ],
      "metadata": {
        "colab": {
          "base_uri": "https://localhost:8080/",
          "height": 265
        },
        "id": "gbaiVYNVuBwB",
        "outputId": "9ca0a47d-6a09-4a09-e688-c20898349be5"
      },
      "execution_count": null,
      "outputs": [
        {
          "output_type": "display_data",
          "data": {
            "text/plain": [
              "<Figure size 432x288 with 1 Axes>"
            ],
            "image/png": "[encoded data removed]"
          },
          "metadata": {
            "needs_background": "light"
          }
        }
      ]
    },
    {
      "cell_type": "code",
      "source": [
        " # Finding the best value for k using PCA model\n",
        "inertia = []\n",
        "k = list(range(1, 10))\n",
        "\n",
        "# Calculate the inertia for the range of k values\n",
        "for i in k:\n",
        "    km = KMeans(n_clusters=i, random_state=0)\n",
        "    km.fit(df_pca)\n",
        "    inertia.append(km.inertia_)\n",
        "\n",
        "# Creating the Elbow Curve\n",
        "elbow_data = {\"k\": k, \"inertia\": inertia}\n",
        "df_elbow = pd.DataFrame(elbow_data)\n",
        "\n",
        "plt.plot(df_elbow['k'], df_elbow['inertia'])\n",
        "plt.xticks(list(range(11)))\n",
        "plt.title('Elbow Curve')\n",
        "plt.xlabel('Number of clusters')\n",
        "plt.ylabel('Inertia')\n",
        "plt.show()"
      ],
      "metadata": {
        "colab": {
          "base_uri": "https://localhost:8080/",
          "height": 295
        },
        "id": "mFdRq-bVM-Gc",
        "outputId": "87e0ec84-34e2-45e3-b640-0d54054352cb"
      },
      "execution_count": null,
      "outputs": [
        {
          "output_type": "display_data",
          "data": {
            "text/plain": [
              "<Figure size 432x288 with 1 Axes>"
            ],
            "image/png": "[encoded data removed]"
          },
          "metadata": {
            "needs_background": "light"
          }
        }
      ]
    },
    {
      "cell_type": "code",
      "source": [
        "# Finding the best value for k using t-SNE output \n",
        "inertia = []\n",
        "k = list(range(1, 10))\n",
        "\n",
        "# Calculate the inertia for the range of k values\n",
        "for i in k:\n",
        "    km = KMeans(n_clusters=i, random_state=0)\n",
        "    km.fit(X_embedded)\n",
        "    inertia.append(km.inertia_)\n",
        "\n",
        "# Creating the Elbow Curve\n",
        "elbow_data = {\"k\": k, \"inertia\": inertia}\n",
        "df_elbow = pd.DataFrame(elbow_data)\n",
        "\n",
        "plt.plot(df_elbow['k'], df_elbow['inertia'])\n",
        "plt.xticks(list(range(11)))\n",
        "plt.title('Elbow Curve')\n",
        "plt.xlabel('Number of clusters')\n",
        "plt.ylabel('Inertia')\n",
        "plt.show()"
      ],
      "metadata": {
        "colab": {
          "base_uri": "https://localhost:8080/",
          "height": 295
        },
        "id": "5qZgZBlQvUhO",
        "outputId": "06b95d1f-0af0-4d86-a177-ffcf8c0747d3"
      },
      "execution_count": null,
      "outputs": [
        {
          "output_type": "display_data",
          "data": {
            "text/plain": [
              "<Figure size 432x288 with 1 Axes>"
            ],
            "image/png": "[encoded data removed]"
          },
          "metadata": {
            "needs_background": "light"
          }
        }
      ]
    },
    {
      "cell_type": "code",
      "source": [
        ""
      ],
      "metadata": {
        "id": "VlZgNc1zvWAV"
      },
      "execution_count": null,
      "outputs": []
    },
    {
      "cell_type": "code",
      "source": [
        ""
      ],
      "metadata": {
        "id": "fdivDD9uvWot"
      },
      "execution_count": null,
      "outputs": []
    }
  ]
}